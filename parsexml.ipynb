{
 "cells": [
  {
   "cell_type": "code",
   "execution_count": 1,
   "metadata": {
    "collapsed": true
   },
   "outputs": [],
   "source": [
    "import pandas as pd\n",
    "import json\n",
    "import os\n",
    "import re"
   ]
  },
  {
   "cell_type": "markdown",
   "metadata": {},
   "source": [
    "### Part1 Wrangling the XML data"
   ]
  },
  {
   "cell_type": "code",
   "execution_count": 2,
   "metadata": {
    "collapsed": true
   },
   "outputs": [],
   "source": [
    "# Read the data\n",
    "filepath = \"australian-sport-thesaurus-student.xml\"\n",
    "with open(filepath, 'r') as f:\n",
    "    xmlString = f.read()"
   ]
  },
  {
   "cell_type": "code",
   "execution_count": 3,
   "metadata": {},
   "outputs": [
    {
     "data": {
      "text/plain": [
       "\"<?xml version='1.0' encoding='UTF-8'?>\\n<Terms>\\n  <Term>\\n    <Title>.177 (4.5mm) Airgun</Title>\\n    <Description>The standard airgun calibre for international target shooting.</Description>\\n    <RelatedTerms>\\n      <Term>\\n        <Title>Shooting sport equipment</Title>\\n        <Relationship>Narrower Term</Relationship>\\n      </Term>\\n    </RelatedTerms>\\n  </Term>\\n  <Term>\\n    <Title>.22</Title>\\n    <Description>A rimfire calibre, much used in target shooting and often synonymous with the term smallbore.</Description>\\n    <RelatedTerms>\\n      <Term>\\n        <Title>Shooting sport equipment</Title>\\n        <Relationship>Narrower Term</Relationship>\\n      </Term>\\n    </RelatedTerms>\\n  </Term>\\n  <Term>\\n    <Title>.22 Long Rifle</Title>\\n    <Description>The standard .22 rimfire cartridge for target rifle and pistol use.</Description>\\n    <RelatedTerms>\\n      <Term>\\n        <Title>Shooting sport equipment</Title>\\n        <Relationship>Narrower Term</Relationship>\\n      </Term>\\n    </RelatedTerms>\\n  </Term>\\n  <Term>\\n    <Title>.22 Short</Title>\\n    <Description>Used as a target shooting round for timed fire pistol competitions.</Description>\\n    <RelatedTerms>\\n      <Term>\\n        <Title>Shooting sport equipment</Title>\\n        <Relationship>Narrower Term</Relationship>\\n      </Term>\\n    </RelatedTerms>\\n  </Term>\\n  <Term>\\n    <Title>1 Kilometre Time Trial</Title>\\n    <Description>test2</Description>\\n    <RelatedTerms>\\n      <Term>\\n        <Title>1 Kilometre TT</Title>\\n        <Relationship>Used For</Relationship>\\n      </Term>\\n      <Term>\\n        <Title>1km Time Trial</Title>\\n        <Relationship>Used For</Relationship>\\n      </Term>\\n      <Term>\\n        <Title>1km Time Trial</Title>\\n        <Relationship>Used For</Relationship>\\n      </Term>\\n      <Term>\\n        <Title>1km TT</Title>\\n        <Relationship>Used For</Relationship>\\n      </Term>\\n      <Term>\\n        <Title>One km Time Trial</Title>\\n        <Relationship>Used For</Relationship>\\n      </Term>\\n    </RelatedTerms\""
      ]
     },
     "execution_count": 3,
     "metadata": {},
     "output_type": "execute_result"
    }
   ],
   "source": [
    "# Have a galance for the first 2000 characters\n",
    "xmlString[:2000]"
   ]
  },
  {
   "cell_type": "code",
   "execution_count": 4,
   "metadata": {},
   "outputs": [
    {
     "name": "stdout",
     "output_type": "stream",
     "text": [
      "from the head \n",
      "\n",
      "\n",
      "<?xml version='1.0' encoding='UTF-8'?>\n",
      "<Terms>\n",
      "  <Term>\n",
      "    <Title>.177 (4.5mm) Airgun</Title>\n",
      "    <Description>The standard airgun calibre for international target shooting.</Description>\n",
      "    <RelatedTerms>\n",
      "      <Term>\n",
      "        <Title>Shooting sport equipment</Title>\n",
      "        <Relationship>Narrower Term</Relationship>\n",
      "      </Term>\n",
      "    </RelatedTerms>\n",
      "  </Term>\n",
      "  <Term>\n",
      "    <Title>.22</Title>\n",
      "    <Description>A rimfire calibre, much used in target shooting and often synonymous with the term smal\n",
      "\n",
      "\n",
      "\n",
      "from the tail \n",
      "\n",
      "\n",
      "tball terms and techniques</Title>\n",
      "        <Relationship>Narrower Term</Relationship>\n",
      "      </Term>\n",
      "    </RelatedTerms>\n",
      "  </Term>\n",
      "  <Term>\n",
      "    <Title>Zudnick </Title>\n",
      "    <Description>A skier leans their upper body forward toward the tips of their skis. The skis are kept close together. </Description>\n",
      "    <RelatedTerms>\n",
      "      <Term>\n",
      "        <Title>Freestyle Skiing terms and techniques</Title>\n",
      "        <Relationship>Narrower Term</Relationship>\n",
      "      </Term>\n",
      "    </RelatedTerms>\n",
      "  </Term>\n",
      "</Terms>\n",
      "\n"
     ]
    }
   ],
   "source": [
    "## Print the string to see the structure for these xml files\n",
    "print \"from the head \\n\\n\"\n",
    "print xmlString[:500]\n",
    "print \"\\n\\n\"\n",
    "print \"from the tail \\n\\n\"\n",
    "print xmlString[-500:]"
   ]
  },
  {
   "cell_type": "markdown",
   "metadata": {},
   "source": [
    "### Here we can find \n",
    "- This xml file is begining with the string of \"<?xml version='1.0' encoding='UTF-8'?>\" , this part will not be useful for the file json file extractiong, this part will be remove in the following part\n",
    "- All the contents are surrended between the tag __\"Terms\"__\n",
    "- For each observation, are surrended by the tag __\"Term\"__\n",
    "- For each observation, there are three parts of information which are going to be extracted, they are \n",
    "    - Title\n",
    "    - Description\n",
    "    - Related Terms\n",
    "- The related terms contain the title and relationship information \n"
   ]
  },
  {
   "cell_type": "code",
   "execution_count": 5,
   "metadata": {},
   "outputs": [],
   "source": [
    "## Split the whole xml file into a list, and each element represents an observation\n",
    "splitxml = xmlString.split(\"\\n  </Term>\\n\")\n",
    "splitxml_new = []\n",
    "for item in splitxml:\n",
    "    splitxml_new.append(item + \"\\n  </Term>\\n\")"
   ]
  },
  {
   "cell_type": "code",
   "execution_count": 6,
   "metadata": {},
   "outputs": [
    {
     "name": "stdout",
     "output_type": "stream",
     "text": [
      "<?xml version='1.0' encoding='UTF-8'?>\n",
      "<Terms>\n",
      "  <Term>\n",
      "    <Title>.177 (4.5mm) Airgun</Title>\n",
      "    <Description>The standard airgun calibre for international target shooting.</Description>\n",
      "    <RelatedTerms>\n",
      "      <Term>\n",
      "        <Title>Shooting sport equipment</Title>\n",
      "        <Relationship>Narrower Term</Relationship>\n",
      "      </Term>\n",
      "    </RelatedTerms>\n",
      "  </Term>\n",
      "\n",
      "\n",
      "\n",
      "  <Term>\n",
      "    <Title>.22</Title>\n",
      "    <Description>A rimfire calibre, much used in target shooting and often synonymous with the term smallbore.</Description>\n",
      "    <RelatedTerms>\n",
      "      <Term>\n",
      "        <Title>Shooting sport equipment</Title>\n",
      "        <Relationship>Narrower Term</Relationship>\n",
      "      </Term>\n",
      "    </RelatedTerms>\n",
      "  </Term>\n",
      "\n",
      "\n",
      "\n",
      "  <Term>\n",
      "    <Title>Zudnick </Title>\n",
      "    <Description>A skier leans their upper body forward toward the tips of their skis. The skis are kept close together. </Description>\n",
      "    <RelatedTerms>\n",
      "      <Term>\n",
      "        <Title>Freestyle Skiing terms and techniques</Title>\n",
      "        <Relationship>Narrower Term</Relationship>\n",
      "      </Term>\n",
      "    </RelatedTerms>\n",
      "  </Term>\n",
      "\n",
      "\n",
      "\n",
      "</Terms>\n",
      "\n",
      "  </Term>\n",
      "\n"
     ]
    }
   ],
   "source": [
    "# Check the split result\n",
    "print splitxml_new[0]\n",
    "print \"\\n\"\n",
    "print splitxml_new[1]\n",
    "print \"\\n\"\n",
    "print splitxml_new[-2]\n",
    "print \"\\n\"\n",
    "print splitxml_new[-1]"
   ]
  },
  {
   "cell_type": "code",
   "execution_count": 7,
   "metadata": {},
   "outputs": [
    {
     "data": {
      "text/plain": [
       "'</Terms>\\n\\n  </Term>\\n'"
      ]
     },
     "execution_count": 7,
     "metadata": {},
     "output_type": "execute_result"
    }
   ],
   "source": [
    "# Modify the first element by removeing the necessary\n",
    "splitxml_new[0] = splitxml_new[0].replace(\"<?xml version='1.0' encoding='UTF-8'?>\\n<Terms>\\n\",\"\")\n",
    "# Remove the last element as there is no content we need\n",
    "splitxml_new.pop()"
   ]
  },
  {
   "cell_type": "markdown",
   "metadata": {},
   "source": [
    "####  Complete wrangling for the splitxml"
   ]
  },
  {
   "cell_type": "markdown",
   "metadata": {},
   "source": [
    "### Part 2 Extracting the information\n",
    "\n",
    "As we can see from the part1, the strategy for extracting the content we need can be concluded into three steps\n",
    "- Extracting the \"Description\" Information first, as this part can be extracted directly \n",
    "- For the \"Title\" information, it appread both in the file root and the related terms, so here we will extract all the content under \"Related Terms\" first, then we remove related terms from the original xml and then we can easlily obtain the file title content\n",
    "- For the related terms, we can find the title and relationship information easily by using the regex\n"
   ]
  },
  {
   "cell_type": "code",
   "execution_count": 8,
   "metadata": {},
   "outputs": [],
   "source": [
    "# collect all the description\n",
    "description_list = []\n",
    "# build the regex patter for description\n",
    "description_pattern = re.compile(r'(?<=<Description>)(.*?)(?=</Description>)')\n",
    "for item in splitxml_new:\n",
    "    desc = re.findall(description_pattern, item)\n",
    "    description_list.append(desc)"
   ]
  },
  {
   "cell_type": "code",
   "execution_count": 9,
   "metadata": {
    "collapsed": true
   },
   "outputs": [],
   "source": [
    "# Extract all the features in Related terms \n",
    "relatedterms_list = []\n",
    "# By using this pattern, we can obtain all the content under related terms\n",
    "relationterm_pattern = re.compile(r'<RelatedTerms>[\\s\\S]*?<\\/RelatedTerms>')\n",
    "for item in splitxml_new:\n",
    "    # Get the related terms, if it not apprear, then get the null list \n",
    "    rt = re.findall(relationterm_pattern, item)\n",
    "    relatedterms_list.append(rt)  "
   ]
  },
  {
   "cell_type": "markdown",
   "metadata": {},
   "source": [
    "##### As we can find, for some observations, there are more than one terms under the related term, so here we will explore the whole contents by using a for loop, and then collected them into a list"
   ]
  },
  {
   "cell_type": "code",
   "execution_count": 10,
   "metadata": {},
   "outputs": [],
   "source": [
    "# Extract all the features in Terms under the related terms\n",
    "term_pattern = re.compile(r'<Term>[\\s\\S]*?<\\/Term>')\n",
    "rterm_list = []\n",
    "for item in relatedterms_list:\n",
    "    # here to avoid the error if there are no terms under the terms\n",
    "    if len(item) == 0:\n",
    "        rterm_list.append([])\n",
    "        continue\n",
    "    rterm = re.findall(term_pattern, item[0])\n",
    "    rterm_list.append(rterm)"
   ]
  },
  {
   "cell_type": "code",
   "execution_count": 11,
   "metadata": {
    "collapsed": true
   },
   "outputs": [],
   "source": [
    "# Extracting the content from the terms \n",
    "target = []\n",
    "# pattern for extracting the title information\n",
    "r_title_pattern = re.compile(r'(?<=<Title>)(.*?)(?=</Title>)')\n",
    "# pattern for extracting the relationship information\n",
    "relationship_pattern = re.compile(r'(?<=<Relationship>)(.*?)(?=</Relationship>)')\n",
    "for item in rterm_list:\n",
    "    # if there are no terms in the list, then we just add an empty list to the target\n",
    "    if len(item) == 0:\n",
    "        target.append([])\n",
    "    else:\n",
    "        r_term_list = []\n",
    "        # look through all the term elements\n",
    "        for ii in item:\n",
    "            # a dict to hold the information\n",
    "            new_dict = {}\n",
    "            # Find the title part\n",
    "            title_ = re.findall(r_title_pattern,ii)\n",
    "            # if the title appear\n",
    "            if len(title_) != 0:\n",
    "                new_dict['Title'] = title_[0]\n",
    "            # Find the relationship part\n",
    "            relationship_ = re.findall(relationship_pattern, ii)\n",
    "            # if the relationship apprea\n",
    "            if len(relationship_) != 0:\n",
    "                new_dict['Relationship'] = relationship_[0]\n",
    "            # append this dict to the list    \n",
    "            r_term_list.append(new_dict)\n",
    "        # append the list to the target list\n",
    "        target.append(r_term_list)\n",
    "    "
   ]
  },
  {
   "cell_type": "code",
   "execution_count": 12,
   "metadata": {},
   "outputs": [
    {
     "data": {
      "text/plain": [
       "[[{'Relationship': 'Narrower Term', 'Title': 'Shooting sport equipment'}],\n",
       " [{'Relationship': 'Narrower Term', 'Title': 'Shooting sport equipment'}],\n",
       " [{'Relationship': 'Narrower Term', 'Title': 'Shooting sport equipment'}],\n",
       " [{'Relationship': 'Narrower Term', 'Title': 'Shooting sport equipment'}],\n",
       " [{'Relationship': 'Used For', 'Title': '1 Kilometre TT'},\n",
       "  {'Relationship': 'Used For', 'Title': '1km Time Trial'},\n",
       "  {'Relationship': 'Used For', 'Title': '1km Time Trial'},\n",
       "  {'Relationship': 'Used For', 'Title': '1km TT'},\n",
       "  {'Relationship': 'Used For', 'Title': 'One km Time Trial'}]]"
      ]
     },
     "execution_count": 12,
     "metadata": {},
     "output_type": "execute_result"
    }
   ],
   "source": [
    "# Random check for the result\n",
    "target[0:5]"
   ]
  },
  {
   "cell_type": "markdown",
   "metadata": {},
   "source": [
    "#### Now we can remove the related terms from the xml and prepare for the next step"
   ]
  },
  {
   "cell_type": "code",
   "execution_count": 13,
   "metadata": {
    "collapsed": true
   },
   "outputs": [],
   "source": [
    "## remove the related terms here which will help us to get the TITLE information easily \n",
    "remove_related_list = []\n",
    "for item in splitxml_new:\n",
    "    remove_ralated = re.sub(relationterm_pattern,'',item)\n",
    "    remove_related_list.append(remove_ralated)"
   ]
  },
  {
   "cell_type": "code",
   "execution_count": 14,
   "metadata": {},
   "outputs": [],
   "source": [
    "# Grab the Title information \n",
    "title_list = []\n",
    "title_pattern = re.compile(r'(?<=<Title>)(.*?)(?=</Title>)')\n",
    "for item in remove_related_list:\n",
    "    title = re.findall(title_pattern, item)\n",
    "    title_list.append(title)"
   ]
  },
  {
   "cell_type": "code",
   "execution_count": 15,
   "metadata": {},
   "outputs": [
    {
     "name": "stdout",
     "output_type": "stream",
     "text": [
      "7863\n",
      "7863\n",
      "7863\n"
     ]
    }
   ],
   "source": [
    "### Check all the result we have \n",
    "print len(title_list)\n",
    "print len(description_list)\n",
    "print len(target)"
   ]
  },
  {
   "cell_type": "code",
   "execution_count": 16,
   "metadata": {},
   "outputs": [],
   "source": [
    "## Generate the final dict file\n",
    "final_list = []\n",
    "data_length = len(target)\n",
    "i = 0\n",
    "while i < data_length:\n",
    "    # build a dict for each observation\n",
    "    data_dict = {}\n",
    "    # get the description information\n",
    "    des = description_list[i]\n",
    "    # assert information here\n",
    "    if len(des) != 0:\n",
    "        data_dict['Description'] = description_list[i][0]\n",
    "    # related information \n",
    "    rt = target[i]\n",
    "    if len(rt) != 0:\n",
    "        data_dict['RelatedTerms'] = rt\n",
    "    # title information\n",
    "    title_part = title_list[i]\n",
    "    if len(title_part) != 0:\n",
    "        data_dict['Title'] = title_list[i][0]\n",
    "    # append all the observation\n",
    "    final_list.append(data_dict)\n",
    "    i = i + 1\n",
    "# Final dict for this task\n",
    "final_dict = {}\n",
    "final_dict[\"thesaurus\"] = final_list"
   ]
  },
  {
   "cell_type": "code",
   "execution_count": 17,
   "metadata": {},
   "outputs": [],
   "source": [
    "# Write out the result\n",
    "writepath = 'sport.dat'\n",
    "json = json.dumps(final_dict)\n",
    "f = open('sport.dat',\"w\")\n",
    "f.write(json)\n",
    "f.close()"
   ]
  },
  {
   "cell_type": "code",
   "execution_count": null,
   "metadata": {
    "collapsed": true
   },
   "outputs": [],
   "source": []
  }
 ],
 "metadata": {
  "kernelspec": {
   "display_name": "Python [default]",
   "language": "python",
   "name": "python2"
  },
  "language_info": {
   "codemirror_mode": {
    "name": "ipython",
    "version": 2
   },
   "file_extension": ".py",
   "mimetype": "text/x-python",
   "name": "python",
   "nbconvert_exporter": "python",
   "pygments_lexer": "ipython2",
   "version": "2.7.13"
  }
 },
 "nbformat": 4,
 "nbformat_minor": 2
}
